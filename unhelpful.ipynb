{
 "cells": [
  {
   "cell_type": "markdown",
   "metadata": {},
   "source": [
    "## Some unhelpful things about Julia"
   ]
  },
  {
   "cell_type": "markdown",
   "metadata": {},
   "source": [
    "#### Lack of useful interactive help"
   ]
  },
  {
   "cell_type": "code",
   "execution_count": 21,
   "metadata": {
    "collapsed": false
   },
   "outputs": [
    {
     "name": "stdout",
     "output_type": "stream",
     "text": [
      "search: "
     ]
    },
    {
     "data": {
      "text/latex": [
       "No documentation found.\n",
       "\\texttt{Core.eval} is an anonymous \\texttt{Function}.\n",
       "\\begin{verbatim}\n",
       "\n",
       "\\end{verbatim}\n"
      ],
      "text/markdown": [
       "No documentation found.\n",
       "\n",
       "`Core.eval` is an anonymous `Function`.\n",
       "\n",
       "```julia\n",
       "\n",
       "```\n"
      ],
      "text/plain": [
       "No documentation found.\n",
       "\n",
       "`Core.eval` is an anonymous `Function`.\n",
       "\n",
       "```julia\n",
       "\n",
       "```\n"
      ]
     },
     "execution_count": 21,
     "metadata": {},
     "output_type": "execute_result"
    },
    {
     "name": "stdout",
     "output_type": "stream",
     "text": [
      "eval evalfile @eval @evalpoly eigvals eigvals! readavailable TypeVar\n",
      "\n"
     ]
    }
   ],
   "source": [
    "?eval\n"
   ]
  },
  {
   "cell_type": "markdown",
   "metadata": {},
   "source": [
    "#### Lack of obvious introspection functions"
   ]
  },
  {
   "cell_type": "markdown",
   "metadata": {},
   "source": [
    "Find out if a module contains a function."
   ]
  },
  {
   "cell_type": "markdown",
   "metadata": {},
   "source": [
    "Find which module a function is contained in."
   ]
  },
  {
   "cell_type": "markdown",
   "metadata": {},
   "source": [
    "#### Odd scoping behaviour in parallel computation"
   ]
  },
  {
   "cell_type": "code",
   "execution_count": 27,
   "metadata": {
    "collapsed": true
   },
   "outputs": [],
   "source": [
    "wrkrs = addprocs(3);"
   ]
  },
  {
   "cell_type": "code",
   "execution_count": 28,
   "metadata": {
    "collapsed": false
   },
   "outputs": [
    {
     "ename": "LoadError",
     "evalue": "LoadError: On worker 17:\nUndefVarError: x not defined\n in anonymous at multi.jl:1343\n in anonymous at multi.jl:892\n in run_work_thunk at multi.jl:645\n [inlined code] from multi.jl:892\n in anonymous at task.jl:59\nwhile loading In[28], in expression starting on line 113",
     "output_type": "error",
     "traceback": [
      "LoadError: On worker 17:\nUndefVarError: x not defined\n in anonymous at multi.jl:1343\n in anonymous at multi.jl:892\n in run_work_thunk at multi.jl:645\n [inlined code] from multi.jl:892\n in anonymous at task.jl:59\nwhile loading In[28], in expression starting on line 113",
      "",
      " in remotecall_fetch at multi.jl:731",
      " [inlined code] from multi.jl:368",
      " in remotecall_fetch at multi.jl:734",
      " [inlined code] from essentials.jl:111"
     ]
    }
   ],
   "source": [
    "@spawnat wrkrs[1] x = pi^2\n",
    "@fetchfrom wrkrs[1] x/2"
   ]
  },
  {
   "cell_type": "code",
   "execution_count": 29,
   "metadata": {
    "collapsed": false
   },
   "outputs": [
    {
     "data": {
      "text/plain": [
       "4.934802200544679"
      ]
     },
     "execution_count": 29,
     "metadata": {},
     "output_type": "execute_result"
    }
   ],
   "source": [
    "@spawnat wrkrs[1] global x = pi^2\n",
    "@fetchfrom wrkrs[1] x/2"
   ]
  },
  {
   "cell_type": "code",
   "execution_count": null,
   "metadata": {
    "collapsed": true
   },
   "outputs": [],
   "source": []
  }
 ],
 "metadata": {
  "kernelspec": {
   "display_name": "Julia 0.5.0-dev",
   "language": "julia",
   "name": "julia-0.5"
  },
  "language_info": {
   "file_extension": ".jl",
   "mimetype": "application/julia",
   "name": "julia",
   "version": "0.5.0"
  }
 },
 "nbformat": 4,
 "nbformat_minor": 0
}

{
 "cells": [
  {
   "cell_type": "code",
   "execution_count": 26,
   "metadata": {
    "collapsed": false
   },
   "outputs": [
    {
     "name": "stderr",
     "output_type": "stream",
     "text": [
      "INFO: Nothing to be done\n"
     ]
    }
   ],
   "source": [
    "Pkg.add(\"Distributions\");\n",
    "using Distributions;"
   ]
  },
  {
   "cell_type": "code",
   "execution_count": 66,
   "metadata": {
    "collapsed": false
   },
   "outputs": [],
   "source": [
    "safefails = [Distributions.Gamma(2,1+rand()) for i in 1:95];\n",
    "moonshots = [Distributions.Gamma(0.01,1000000) for i in 1:5];\n",
    "investments = vcat(safefails, moonshots);"
   ]
  },
  {
   "cell_type": "code",
   "execution_count": 67,
   "metadata": {
    "collapsed": false
   },
   "outputs": [],
   "source": [
    "investment_info_replications = map(x->map(rand, investments), 1:1000);"
   ]
  },
  {
   "cell_type": "code",
   "execution_count": 68,
   "metadata": {
    "collapsed": false
   },
   "outputs": [],
   "source": [
    "policy_max = (data)->[indmax(data)];\n",
    "policy_diverse = (data)->sortperm(data)[end-Int(ceil(length(data)/10)):end];\n",
    "ev_choices = choices->mean(map(mean, investments[choices]));"
   ]
  },
  {
   "cell_type": "code",
   "execution_count": 69,
   "metadata": {
    "collapsed": false
   },
   "outputs": [
    {
     "data": {
      "text/plain": [
       "1000-element Array{Array{Int64,1},1}:\n",
       " [8,44,45,18,41,80,95,89,40,34,25]  \n",
       " [14,92,63,91,8,30,24,65,85,53,12]  \n",
       " [80,8,68,49,10,27,95,63,4,75,78]   \n",
       " [95,34,9,13,59,8,85,30,39,27,47]   \n",
       " [8,92,23,26,76,33,45,21,55,67,5]   \n",
       " [19,89,6,85,47,86,27,83,8,81,14]   \n",
       " [13,76,69,86,3,31,73,35,80,49,26]  \n",
       " [23,100,25,84,58,67,77,34,14,91,60]\n",
       " [23,93,69,100,49,81,25,32,18,34,59]\n",
       " [36,94,86,76,24,26,49,55,28,100,91]\n",
       " [22,86,42,11,36,65,67,53,90,2,13]  \n",
       " [71,7,77,27,21,55,57,22,60,73,85]  \n",
       " [51,6,20,8,85,97,63,1,50,83,3]     \n",
       " ⋮                                  \n",
       " [97,99,27,77,87,9,79,64,46,55,84]  \n",
       " [40,66,13,15,19,70,95,16,65,14,20] \n",
       " [14,69,72,8,87,53,77,32,50,99,29]  \n",
       " [37,44,17,59,60,55,54,52,100,62,6] \n",
       " [50,10,80,46,83,68,90,61,60,42,24] \n",
       " [19,70,61,58,68,31,16,26,69,39,5]  \n",
       " [97,85,93,64,65,80,23,12,72,91,92] \n",
       " [50,22,76,73,41,52,67,39,98,25,1]  \n",
       " [9,26,98,82,49,43,78,64,61,58,15]  \n",
       " [24,39,14,18,97,45,6,81,23,72,5]   \n",
       " [84,12,26,46,52,50,9,86,78,63,33]  \n",
       " [75,44,21,54,71,37,97,61,66,1,5]   "
      ]
     },
     "execution_count": 69,
     "metadata": {},
     "output_type": "execute_result"
    }
   ],
   "source": [
    "decisions_max = map(policy_max, replications)\n",
    "decisions_diverse = map(policy_diverse, replications)"
   ]
  },
  {
   "cell_type": "code",
   "execution_count": 70,
   "metadata": {
    "collapsed": false
   },
   "outputs": [
    {
     "name": "stdout",
     "output_type": "stream",
     "text": [
      "mean(map(ev_choices,decisions_max)) = 362.9700091532316\n"
     ]
    },
    {
     "data": {
      "text/plain": [
       "362.9700091532316"
      ]
     },
     "execution_count": 70,
     "metadata": {},
     "output_type": "execute_result"
    }
   ],
   "source": [
    "@show mean(map(ev_choices, decisions_max))"
   ]
  },
  {
   "cell_type": "code",
   "execution_count": 71,
   "metadata": {
    "collapsed": false
   },
   "outputs": [
    {
     "name": "stdout",
     "output_type": "stream",
     "text": [
      "mean(map(ev_choices,decisions_diverse)) = 511.9899861795283\n"
     ]
    },
    {
     "data": {
      "text/plain": [
       "511.9899861795283"
      ]
     },
     "execution_count": 71,
     "metadata": {},
     "output_type": "execute_result"
    }
   ],
   "source": [
    "@show mean(map(ev_choices, decisions_diverse))"
   ]
  }
 ],
 "metadata": {
  "kernelspec": {
   "display_name": "Julia 0.5.0",
   "language": "julia",
   "name": "julia-0.5"
  },
  "language_info": {
   "file_extension": ".jl",
   "mimetype": "application/julia",
   "name": "julia",
   "version": "0.5.0"
  }
 },
 "nbformat": 4,
 "nbformat_minor": 0
}

{
 "cells": [
  {
   "cell_type": "markdown",
   "metadata": {},
   "source": [
    "# Julia for (scientific) python programmers"
   ]
  },
  {
   "cell_type": "markdown",
   "metadata": {},
   "source": [
    "Generally we're going to assume you've had a look at an introductory Julia article such as [Learn Julia in Y minutes](http://learnxinyminutes.com/docs/julia/ \"Learn Julia in Y minutes\").\n",
    "\n",
    "This article was written using the 0.5 dev branch of Julia.\n"
   ]
  },
  {
   "cell_type": "markdown",
   "metadata": {},
   "source": [
    "### Multiple dispatch"
   ]
  },
  {
   "cell_type": "markdown",
   "metadata": {},
   "source": [
    "The biggest difference for me coming to Julia from python is the type system. I have used statically typed languages such as C, but not interactively.\n",
    "\n",
    "In python methods and data are wrapped together in classes. For example, suppose we want a 2D point class which supports use of ```+``` for addition. In python our code might look like:"
   ]
  },
  {
   "cell_type": "markdown",
   "metadata": {},
   "source": [
    "```python\n",
    "class foo:\n",
    "\n",
    "    def __init__(self, x, y):\n",
    "        self.x = x \n",
    "        self.y = y\n",
    "        \n",
    "    def __add__(self, othr):\n",
    "        newx = self.x + othr.x\n",
    "        newy = self.y + othr.y\n",
    "        return foo(newx, newy)\n",
    "        \n",
    "a = foo(1, 2)\n",
    "b = foo(pi, e)\n",
    "c = a + b\n",
    "```         "
   ]
  },
  {
   "cell_type": "markdown",
   "metadata": {},
   "source": [
    "Where as in Julia we define the data type, and operations for that data type separately. "
   ]
  },
  {
   "cell_type": "code",
   "execution_count": 73,
   "metadata": {
    "collapsed": false
   },
   "outputs": [
    {
     "data": {
      "text/plain": [
       "foo(4.141592653589793,4.718281828459045)"
      ]
     },
     "execution_count": 73,
     "metadata": {},
     "output_type": "execute_result"
    }
   ],
   "source": [
    "import Base.+  #explicitly state where the function + is coming from.\n",
    "\n",
    "type foo\n",
    "   x::Float64\n",
    "   y::Float64\n",
    "end\n",
    "\n",
    "function (+)(left::foo, rght::foo)\n",
    "    newx = left.x + rght.x\n",
    "    newy = left.y + rght.y\n",
    "    foo(newx, newy)\n",
    "end\n",
    "        \n",
    "a = foo(1, 2)\n",
    "b = foo(pi, e)\n",
    "c = a + b"
   ]
  },
  {
   "cell_type": "markdown",
   "metadata": {},
   "source": [
    "Even if you don't often want to overload operators for your own classes this matters. It matters because it affects how we can look for and interact with the data types and methods found in modules.  \n",
    "\n",
    "For example, we cannot enter ```dir(foo)``` and expect a list of all the attributes and methods of an object.\n",
    "\n",
    "This is important because Julia is immature, and documentation outside the core language is incomplete. Yet we still need to be able to discover how modules work."
   ]
  },
  {
   "cell_type": "markdown",
   "metadata": {},
   "source": [
    "### What is in a module?"
   ]
  },
  {
   "cell_type": "markdown",
   "metadata": {},
   "source": [
    "Say we want to work with some sparse matrices on a GPU, so we load up the [```CUSPARSE.jl```](https://github.com/JuliaGPU/CUSPARSE.jl \"CUSPARSE\") module. \n",
    "\n",
    "We'll then look at what sorts of data types and functions it makes available to us."
   ]
  },
  {
   "cell_type": "code",
   "execution_count": 48,
   "metadata": {
    "collapsed": false
   },
   "outputs": [],
   "source": [
    "using CUSPARSE"
   ]
  },
  {
   "cell_type": "markdown",
   "metadata": {},
   "source": [
    "What exactly have we got by doing this?"
   ]
  },
  {
   "cell_type": "code",
   "execution_count": 49,
   "metadata": {
    "collapsed": false
   },
   "outputs": [
    {
     "data": {
      "text/plain": [
       "Module"
      ]
     },
     "execution_count": 49,
     "metadata": {},
     "output_type": "execute_result"
    }
   ],
   "source": [
    "typeof(CUSPARSE)"
   ]
  },
  {
   "cell_type": "code",
   "execution_count": 64,
   "metadata": {
    "collapsed": false
   },
   "outputs": [
    {
     "data": {
      "text/html": [
       "10-element Array{Method,1}:<ul><li> fullname(m::<b>Module</b>) at <a href=\"https://github.com/JuliaLang/julia/tree/83eac1ed6203aab513eaa683c7324ef25c13aba0/base/reflection.jl#L9\" target=\"_blank\">reflection.jl:9</a><li> isconst(m::<b>Module</b>, s::<b>Symbol</b>) at <a href=\"https://github.com/JuliaLang/julia/tree/83eac1ed6203aab513eaa683c7324ef25c13aba0/base/reflection.jl#L67\" target=\"_blank\">reflection.jl:67</a><li> methodswith(t::<b>Type{T}</b>, m::<b>Module</b>) at <a href=\"https://github.com/JuliaLang/julia/tree/83eac1ed6203aab513eaa683c7324ef25c13aba0/base/interactiveutil.jl#L315\" target=\"_blank\">interactiveutil.jl:315</a><li> methodswith(t::<b>Type{T}</b>, m::<b>Module</b>, showparents::<b>Bool</b>) at <a href=\"https://github.com/JuliaLang/julia/tree/83eac1ed6203aab513eaa683c7324ef25c13aba0/base/interactiveutil.jl#L315\" target=\"_blank\">interactiveutil.jl:315</a><li> module_name(m::<b>Module</b>) at <a href=\"https://github.com/JuliaLang/julia/tree/83eac1ed6203aab513eaa683c7324ef25c13aba0/base/reflection.jl#L4\" target=\"_blank\">reflection.jl:4</a><li> module_parent(m::<b>Module</b>) at <a href=\"https://github.com/JuliaLang/julia/tree/83eac1ed6203aab513eaa683c7324ef25c13aba0/base/reflection.jl#L5\" target=\"_blank\">reflection.jl:5</a><li> names(m::<b>Module</b>) at <a href=\"https://github.com/JuliaLang/julia/tree/83eac1ed6203aab513eaa683c7324ef25c13aba0/base/reflection.jl#L32\" target=\"_blank\">reflection.jl:32</a><li> names(m::<b>Module</b>, all::<b>Bool</b>) at <a href=\"https://github.com/JuliaLang/julia/tree/83eac1ed6203aab513eaa683c7324ef25c13aba0/base/reflection.jl#L31\" target=\"_blank\">reflection.jl:31</a><li> names(m::<b>Module</b>, all::<b>Bool</b>, imported::<b>Bool</b>) at <a href=\"https://github.com/JuliaLang/julia/tree/83eac1ed6203aab513eaa683c7324ef25c13aba0/base/reflection.jl#L30\" target=\"_blank\">reflection.jl:30</a><li> serialize(s::<b>SerializationState{I<:IO}</b>, m::<b>Module</b>) at <a href=\"https://github.com/JuliaLang/julia/tree/83eac1ed6203aab513eaa683c7324ef25c13aba0/base/serialize.jl#L262\" target=\"_blank\">serialize.jl:262</a></ul>"
      ],
      "text/plain": [
       "10-element Array{Method,1}:\n",
       " fullname(m::Module) at reflection.jl:9                                         \n",
       " isconst(m::Module, s::Symbol) at reflection.jl:67                              \n",
       " methodswith(t::Type{T}, m::Module) at interactiveutil.jl:315                   \n",
       " methodswith(t::Type{T}, m::Module, showparents::Bool) at interactiveutil.jl:315\n",
       " module_name(m::Module) at reflection.jl:4                                      \n",
       " module_parent(m::Module) at reflection.jl:5                                    \n",
       " names(m::Module) at reflection.jl:32                                           \n",
       " names(m::Module, all::Bool) at reflection.jl:31                                \n",
       " names(m::Module, all::Bool, imported::Bool) at reflection.jl:30                \n",
       " serialize(s::SerializationState{I<:IO}, m::Module) at serialize.jl:262         "
      ]
     },
     "execution_count": 64,
     "metadata": {},
     "output_type": "execute_result"
    }
   ],
   "source": [
    "methodswith(typeof(CUSPARSE))[1:10]"
   ]
  },
  {
   "cell_type": "markdown",
   "metadata": {},
   "source": [
    "We can use the three names functions to give us increasing levels of information about the variables in the module.\n",
    "\n",
    "First we look for all the variables _exported_ from the package."
   ]
  },
  {
   "cell_type": "code",
   "execution_count": 69,
   "metadata": {
    "collapsed": false
   },
   "outputs": [
    {
     "data": {
      "text/plain": [
       "5-element Array{Symbol,1}:\n",
       " :CUSPARSE           \n",
       " :CudaSparseMatrixBSR\n",
       " :CudaSparseMatrixCSC\n",
       " :CudaSparseMatrixCSR\n",
       " :CudaSparseMatrixHYB"
      ]
     },
     "execution_count": 69,
     "metadata": {},
     "output_type": "execute_result"
    }
   ],
   "source": [
    "n1 = names(CUSPARSE)"
   ]
  },
  {
   "cell_type": "markdown",
   "metadata": {},
   "source": [
    "Next we get the names of all variables _defined_ in the module. "
   ]
  },
  {
   "cell_type": "code",
   "execution_count": 72,
   "metadata": {
    "collapsed": false
   },
   "outputs": [
    {
     "name": "stdout",
     "output_type": "stream",
     "text": [
      "Yields 175 variable names, of which the first ten are:\n"
     ]
    },
    {
     "data": {
      "text/plain": [
       "10-element Array{Symbol,1}:\n",
       " :CUSPARSE                   \n",
       " :CUSPARSE_ACTION_NUMERIC    \n",
       " :CUSPARSE_ACTION_SYMBOLIC   \n",
       " :CUSPARSE_DIAG_TYPE_NON_UNIT\n",
       " :CUSPARSE_DIAG_TYPE_UNIT    \n",
       " :CUSPARSE_DIRECTION_COL     \n",
       " :CUSPARSE_DIRECTION_ROW     \n",
       " :CUSPARSE_FILL_MODE_LOWER   \n",
       " :CUSPARSE_FILL_MODE_UPPER   \n",
       " :CUSPARSE_HYB_PARTITION_AUTO"
      ]
     },
     "execution_count": 72,
     "metadata": {},
     "output_type": "execute_result"
    }
   ],
   "source": [
    "n2 = names(CUSPARSE, true); \n",
    "\n",
    "println(\"Yields $(length(n2)) variable names, of which the first ten are:\")\n",
    "n2[1:10]\n"
   ]
  },
  {
   "cell_type": "markdown",
   "metadata": {},
   "source": [
    "Next we get the names of all variables _used_ in the package."
   ]
  },
  {
   "cell_type": "code",
   "execution_count": 70,
   "metadata": {
    "collapsed": false
   },
   "outputs": [
    {
     "name": "stdout",
     "output_type": "stream",
     "text": [
      "Yields 260 variable names, of which the first ten are:\n"
     ]
    },
    {
     "data": {
      "text/plain": [
       "10-element Array{Symbol,1}:\n",
       " :+                   \n",
       " :(==)                \n",
       " symbol(\"@eval\")      \n",
       " :AbstractSparseArray \n",
       " :AbstractSparseMatrix\n",
       " :AbstractSparseVector\n",
       " :Any                 \n",
       " :ArgumentError       \n",
       " :Base                \n",
       " :CUSPARSE            "
      ]
     },
     "execution_count": 70,
     "metadata": {},
     "output_type": "execute_result"
    }
   ],
   "source": [
    "n3 = names(CUSPARSE, true, true); \n",
    "\n",
    "println(\"Yields $(length(n3)) variable names, of which the first ten are:\")\n",
    "n3[1:10]"
   ]
  },
  {
   "cell_type": "markdown",
   "metadata": {},
   "source": [
    "The ```whos()``` function gives a variables were exported by the package. Exporting a variable is the primary way of a developer indicating where the gateways into a module are for users. Exported variables can be used _without_ ```modname.varname``` notation, we can just write ```varname```.  In case of namespace conflicts use ```import modname``` rather than ```using modname``` and always use the longer notation."
   ]
  },
  {
   "cell_type": "code",
   "execution_count": 75,
   "metadata": {
    "collapsed": false
   },
   "outputs": [
    {
     "name": "stdout",
     "output_type": "stream",
     "text": [
      "                      CUSPARSE    731 KB     Module : CUSPARSE\n",
      "           CudaSparseMatrixBSR    252 bytes  DataType : CUSPARSE.CudaSparseMatr…\n",
      "           CudaSparseMatrixCSC    228 bytes  DataType : CUSPARSE.CudaSparseMatr…\n",
      "           CudaSparseMatrixCSR    228 bytes  DataType : CUSPARSE.CudaSparseMatr…\n",
      "           CudaSparseMatrixHYB    204 bytes  DataType : CUSPARSE.CudaSparseMatr…\n"
     ]
    }
   ],
   "source": [
    "whos(CUSPARSE)"
   ]
  },
  {
   "cell_type": "markdown",
   "metadata": {},
   "source": [
    "### How can we interact with a variable?"
   ]
  },
  {
   "cell_type": "markdown",
   "metadata": {},
   "source": [
    "Suppose we like the sound of the ```CudaSparseMatrixCSR``` object and want to find out more about it."
   ]
  },
  {
   "cell_type": "code",
   "execution_count": 77,
   "metadata": {
    "collapsed": false
   },
   "outputs": [
    {
     "data": {
      "text/plain": [
       "DataType"
      ]
     },
     "execution_count": 77,
     "metadata": {},
     "output_type": "execute_result"
    }
   ],
   "source": [
    "typeof(CudaSparseMatrixCSR)"
   ]
  },
  {
   "cell_type": "markdown",
   "metadata": {},
   "source": [
    "Some of the things we can do with a data type:"
   ]
  },
  {
   "cell_type": "code",
   "execution_count": 79,
   "metadata": {
    "collapsed": false
   },
   "outputs": [
    {
     "data": {
      "text/html": [
       "10-element Array{Method,1}:<ul><li> deserialize(s::<b>SerializationState{I<:IO}</b>, t::<b>DataType</b>) at <a href=\"https://github.com/JuliaLang/julia/tree/83eac1ed6203aab513eaa683c7324ef25c13aba0/base/serialize.jl#L667\" target=\"_blank\">serialize.jl:667</a><li> dump(io::<b>IO</b>, x::<b>DataType</b>) at <a href=\"https://github.com/JuliaLang/julia/tree/83eac1ed6203aab513eaa683c7324ef25c13aba0/base/show.jl#L971\" target=\"_blank\">show.jl:971</a><li> dump(io::<b>IO</b>, x::<b>DataType</b>, n::<b>Int64</b>) at <a href=\"https://github.com/JuliaLang/julia/tree/83eac1ed6203aab513eaa683c7324ef25c13aba0/base/show.jl#L970\" target=\"_blank\">show.jl:970</a><li> dump(io::<b>IO</b>, x::<b>DataType</b>, n::<b>Int64</b>, indent) at <a href=\"https://github.com/JuliaLang/julia/tree/83eac1ed6203aab513eaa683c7324ef25c13aba0/base/show.jl#L969\" target=\"_blank\">show.jl:969</a><li> eltype(t::<b>DataType</b>) at <a href=\"https://github.com/JuliaLang/julia/tree/83eac1ed6203aab513eaa683c7324ef25c13aba0/base/operators.jl#L190\" target=\"_blank\">operators.jl:190</a><li> fieldnames(t::<b>DataType</b>) at <a href=\"https://github.com/JuliaLang/julia/tree/83eac1ed6203aab513eaa683c7324ef25c13aba0/base/reflection.jl#L54\" target=\"_blank\">reflection.jl:54</a><li> fieldoffsets(x::<b>DataType</b>) at <a href=\"https://github.com/JuliaLang/julia/tree/83eac1ed6203aab513eaa683c7324ef25c13aba0/base/reflection.jl#L86\" target=\"_blank\">reflection.jl:86</a><li> isbits(t::<b>DataType</b>) at <a href=\"https://github.com/JuliaLang/julia/tree/83eac1ed6203aab513eaa683c7324ef25c13aba0/base/reflection.jl#L77\" target=\"_blank\">reflection.jl:77</a><li> names(t::<b>DataType</b>) at <a href=\"https://github.com/JuliaLang/julia/tree/83eac1ed6203aab513eaa683c7324ef25c13aba0/base/deprecated.jl#L49\" target=\"_blank\">deprecated.jl:49</a><li> serialize(s::<b>SerializationState{I<:IO}</b>, t::<b>DataType</b>) at <a href=\"https://github.com/JuliaLang/julia/tree/83eac1ed6203aab513eaa683c7324ef25c13aba0/base/serialize.jl#L377\" target=\"_blank\">serialize.jl:377</a></ul>"
      ],
      "text/plain": [
       "10-element Array{Method,1}:\n",
       " deserialize(s::SerializationState{I<:IO}, t::DataType) at serialize.jl:667\n",
       " dump(io::IO, x::DataType) at show.jl:971                                  \n",
       " dump(io::IO, x::DataType, n::Int64) at show.jl:970                        \n",
       " dump(io::IO, x::DataType, n::Int64, indent) at show.jl:969                \n",
       " eltype(t::DataType) at operators.jl:190                                   \n",
       " fieldnames(t::DataType) at reflection.jl:54                               \n",
       " fieldoffsets(x::DataType) at reflection.jl:86                             \n",
       " isbits(t::DataType) at reflection.jl:77                                   \n",
       " names(t::DataType) at deprecated.jl:49                                    \n",
       " serialize(s::SerializationState{I<:IO}, t::DataType) at serialize.jl:377  "
      ]
     },
     "execution_count": 79,
     "metadata": {},
     "output_type": "execute_result"
    }
   ],
   "source": [
    "methodswith(DataType)[1:10]"
   ]
  },
  {
   "cell_type": "markdown",
   "metadata": {},
   "source": [
    "Now we can look up what attributes the CSR matrix has:"
   ]
  },
  {
   "cell_type": "code",
   "execution_count": 26,
   "metadata": {
    "collapsed": false
   },
   "outputs": [
    {
     "data": {
      "text/plain": [
       "6-element Array{Symbol,1}:\n",
       " :rowPtr\n",
       " :colVal\n",
       " :nzVal \n",
       " :dims  \n",
       " :nnz   \n",
       " :dev   "
      ]
     },
     "execution_count": 26,
     "metadata": {},
     "output_type": "execute_result"
    }
   ],
   "source": [
    "fieldnames(CudaSparseMatrixCSR)"
   ]
  },
  {
   "cell_type": "markdown",
   "metadata": {},
   "source": [
    "What functions accept a ```CudaSparseMatrixCSR``` as an argument?"
   ]
  },
  {
   "cell_type": "code",
   "execution_count": 28,
   "metadata": {
    "collapsed": false
   },
   "outputs": [
    {
     "data": {
      "text/html": [
       "4-element Array{Method,1}:<ul><li> copy(Mat::<b>CUSPARSE.CudaSparseMatrixCSR{T}</b>) at <a href=\"https://github.com/JuliaGPU/CUSPARSE.jl/tree/58bca6fad4906460aba913fc83644c31c2e8b72e/src/util.jl#L151\" target=\"_blank\">/home/mcp50/.julia/v0.5/CUSPARSE/src/util.jl:151</a><li> copy!(dst::<b>CUSPARSE.CudaSparseMatrixCSR{T}</b>, src::<b>CUSPARSE.CudaSparseMatrixCSR{T}</b>) at <a href=\"https://github.com/JuliaGPU/CUSPARSE.jl/tree/58bca6fad4906460aba913fc83644c31c2e8b72e/src/util.jl#L119\" target=\"_blank\">/home/mcp50/.julia/v0.5/CUSPARSE/src/util.jl:119</a><li> similar(Mat::<b>CUSPARSE.CudaSparseMatrixCSR{T}</b>) at <a href=\"https://github.com/JuliaGPU/CUSPARSE.jl/tree/58bca6fad4906460aba913fc83644c31c2e8b72e/src/util.jl#L104\" target=\"_blank\">/home/mcp50/.julia/v0.5/CUSPARSE/src/util.jl:104</a><li> to_host<i>{T}</i>(Mat::<b>CUSPARSE.CudaSparseMatrixCSR{T}</b>) at <a href=\"https://github.com/JuliaGPU/CUSPARSE.jl/tree/58bca6fad4906460aba913fc83644c31c2e8b72e/src/util.jl#L76\" target=\"_blank\">/home/mcp50/.julia/v0.5/CUSPARSE/src/util.jl:76</a></ul>"
      ],
      "text/plain": [
       "4-element Array{Method,1}:\n",
       " copy(Mat::CUSPARSE.CudaSparseMatrixCSR{T}) at /home/mcp50/.julia/v0.5/CUSPARSE/src/util.jl:151                                       \n",
       " copy!(dst::CUSPARSE.CudaSparseMatrixCSR{T}, src::CUSPARSE.CudaSparseMatrixCSR{T}) at /home/mcp50/.julia/v0.5/CUSPARSE/src/util.jl:119\n",
       " similar(Mat::CUSPARSE.CudaSparseMatrixCSR{T}) at /home/mcp50/.julia/v0.5/CUSPARSE/src/util.jl:104                                    \n",
       " to_host{T}(Mat::CUSPARSE.CudaSparseMatrixCSR{T}) at /home/mcp50/.julia/v0.5/CUSPARSE/src/util.jl:76                                  "
      ]
     },
     "execution_count": 28,
     "metadata": {},
     "output_type": "execute_result"
    }
   ],
   "source": [
    "methodswith(CudaSparseMatrixCSR)"
   ]
  },
  {
   "cell_type": "markdown",
   "metadata": {},
   "source": [
    "Unlike python, functions in Julia are not built into classes. \n",
    "\n",
    "Instead the multiple dispatch system uses one function name with many variant methods catering for different data types."
   ]
  },
  {
   "cell_type": "code",
   "execution_count": 37,
   "metadata": {
    "collapsed": false
   },
   "outputs": [
    {
     "data": {
      "text/html": [
       "3 methods for generic function <b>to_host</b>:<ul><li> to_host<i>{T}</i>(g::<b>CUDArt.AbstractCudaArray{T,N}</b>) at <a href=\"https://github.com/JuliaGPU/CUDArt.jl/tree/c7954d7a931fcf48e017a943e4ce4cd13ae6cc48/src/arrays.jl#L87\" target=\"_blank\">/home/mcp50/.julia/v0.5/CUDArt/src/arrays.jl:87</a><li> to_host<i>{T}</i>(Mat::<b>CUSPARSE.CudaSparseMatrixCSC{T}</b>) at <a href=\"https://github.com/JuliaGPU/CUSPARSE.jl/tree/58bca6fad4906460aba913fc83644c31c2e8b72e/src/util.jl#L74\" target=\"_blank\">/home/mcp50/.julia/v0.5/CUSPARSE/src/util.jl:74</a><li> to_host<i>{T}</i>(Mat::<b>CUSPARSE.CudaSparseMatrixCSR{T}</b>) at <a href=\"https://github.com/JuliaGPU/CUSPARSE.jl/tree/58bca6fad4906460aba913fc83644c31c2e8b72e/src/util.jl#L76\" target=\"_blank\">/home/mcp50/.julia/v0.5/CUSPARSE/src/util.jl:76</a></ul>"
      ],
      "text/plain": [
       "# 3 methods for generic function \"to_host\":\n",
       "to_host{T}(g::CUDArt.AbstractCudaArray{T,N}) at /home/mcp50/.julia/v0.5/CUDArt/src/arrays.jl:87\n",
       "to_host{T}(Mat::CUSPARSE.CudaSparseMatrixCSC{T}) at /home/mcp50/.julia/v0.5/CUSPARSE/src/util.jl:74\n",
       "to_host{T}(Mat::CUSPARSE.CudaSparseMatrixCSR{T}) at /home/mcp50/.julia/v0.5/CUSPARSE/src/util.jl:76"
      ]
     },
     "execution_count": 37,
     "metadata": {},
     "output_type": "execute_result"
    }
   ],
   "source": [
    "methods(CUSPARSE.to_host)"
   ]
  },
  {
   "cell_type": "markdown",
   "metadata": {},
   "source": [
    "Here we can see that variant methods exist for sending either an abstract version of a sparse matrix, a compressed sparse column matrix, or a compressed sparse row matrix back to the host."
   ]
  },
  {
   "cell_type": "markdown",
   "metadata": {},
   "source": [
    "### Using a variable."
   ]
  },
  {
   "cell_type": "markdown",
   "metadata": {},
   "source": [
    "Here's a convenience function I made to search for functions by part of name within a module:"
   ]
  },
  {
   "cell_type": "code",
   "execution_count": 90,
   "metadata": {
    "collapsed": false
   },
   "outputs": [
    {
     "data": {
      "text/plain": [
       "lookup (generic function with 1 method)"
      ]
     },
     "execution_count": 90,
     "metadata": {},
     "output_type": "execute_result"
    }
   ],
   "source": [
    "function lookup(modname::Module, srchterm::Regex)\n",
    "    vars = names(modname, true)\n",
    "    indx = map((nm)->ismatch(srchterm, string(nm)), vars);\n",
    "    vars[indx]\n",
    "end"
   ]
  },
  {
   "cell_type": "markdown",
   "metadata": {},
   "source": [
    "Say we want to look up matrix vector operations:"
   ]
  },
  {
   "cell_type": "code",
   "execution_count": 92,
   "metadata": {
    "collapsed": false
   },
   "outputs": [
    {
     "data": {
      "text/plain": [
       "7-element Array{Symbol,1}:\n",
       " :bsrmv    \n",
       " :bsrmv!   \n",
       " :chkmvdims\n",
       " :csrmv    \n",
       " :csrmv!   \n",
       " :hybmv    \n",
       " :hybmv!   "
      ]
     },
     "execution_count": 92,
     "metadata": {},
     "output_type": "execute_result"
    }
   ],
   "source": [
    "lookup(CUSPARSE, r\"mv\")"
   ]
  },
  {
   "cell_type": "code",
   "execution_count": 96,
   "metadata": {
    "collapsed": false
   },
   "outputs": [
    {
     "data": {
      "text/html": [
       "24 methods for generic function <b>csrmv</b>:<ul><li> csrmv(transa::<b>Char</b>, alpha::<b>Float32</b>, A::<b>CUSPARSE.CudaSparseMatrixCSR{Float32}</b>, X::<b>CUDArt.CudaArray{Float32,1}</b>, beta::<b>Float32</b>, Y::<b>CUDArt.CudaArray{Float32,1}</b>, index::<b>Char</b>) at <a href=\"https://github.com/JuliaGPU/CUSPARSE.jl/tree/58bca6fad4906460aba913fc83644c31c2e8b72e/src/sparse.jl#L659\" target=\"_blank\">/home/mcp50/.julia/v0.5/CUSPARSE/src/sparse.jl:659</a><li> csrmv(transa::<b>Char</b>, alpha::<b>Float32</b>, A::<b>CUSPARSE.CudaSparseMatrixCSR{Float32}</b>, X::<b>CUDArt.CudaArray{Float32,1}</b>, Y::<b>CUDArt.CudaArray{Float32,1}</b>, index::<b>Char</b>) at <a href=\"https://github.com/JuliaGPU/CUSPARSE.jl/tree/58bca6fad4906460aba913fc83644c31c2e8b72e/src/sparse.jl#L667\" target=\"_blank\">/home/mcp50/.julia/v0.5/CUSPARSE/src/sparse.jl:667</a><li> csrmv(transa::<b>Char</b>, A::<b>CUSPARSE.CudaSparseMatrixCSR{Float32}</b>, X::<b>CUDArt.CudaArray{Float32,1}</b>, beta::<b>Float32</b>, Y::<b>CUDArt.CudaArray{Float32,1}</b>, index::<b>Char</b>) at <a href=\"https://github.com/JuliaGPU/CUSPARSE.jl/tree/58bca6fad4906460aba913fc83644c31c2e8b72e/src/sparse.jl#L675\" target=\"_blank\">/home/mcp50/.julia/v0.5/CUSPARSE/src/sparse.jl:675</a><li> csrmv(transa::<b>Char</b>, A::<b>CUSPARSE.CudaSparseMatrixCSR{Float32}</b>, X::<b>CUDArt.CudaArray{Float32,1}</b>, Y::<b>CUDArt.CudaArray{Float32,1}</b>, index::<b>Char</b>) at <a href=\"https://github.com/JuliaGPU/CUSPARSE.jl/tree/58bca6fad4906460aba913fc83644c31c2e8b72e/src/sparse.jl#L682\" target=\"_blank\">/home/mcp50/.julia/v0.5/CUSPARSE/src/sparse.jl:682</a><li> csrmv(transa::<b>Char</b>, alpha::<b>Float32</b>, A::<b>CUSPARSE.CudaSparseMatrixCSR{Float32}</b>, X::<b>CUDArt.CudaArray{Float32,1}</b>, index::<b>Char</b>) at <a href=\"https://github.com/JuliaGPU/CUSPARSE.jl/tree/58bca6fad4906460aba913fc83644c31c2e8b72e/src/sparse.jl#L689\" target=\"_blank\">/home/mcp50/.julia/v0.5/CUSPARSE/src/sparse.jl:689</a><li> csrmv(transa::<b>Char</b>, A::<b>CUSPARSE.CudaSparseMatrixCSR{Float32}</b>, X::<b>CUDArt.CudaArray{Float32,1}</b>, index::<b>Char</b>) at <a href=\"https://github.com/JuliaGPU/CUSPARSE.jl/tree/58bca6fad4906460aba913fc83644c31c2e8b72e/src/sparse.jl#L695\" target=\"_blank\">/home/mcp50/.julia/v0.5/CUSPARSE/src/sparse.jl:695</a><li> csrmv(transa::<b>Char</b>, alpha::<b>Float64</b>, A::<b>CUSPARSE.CudaSparseMatrixCSR{Float64}</b>, X::<b>CUDArt.CudaArray{Float64,1}</b>, beta::<b>Float64</b>, Y::<b>CUDArt.CudaArray{Float64,1}</b>, index::<b>Char</b>) at <a href=\"https://github.com/JuliaGPU/CUSPARSE.jl/tree/58bca6fad4906460aba913fc83644c31c2e8b72e/src/sparse.jl#L659\" target=\"_blank\">/home/mcp50/.julia/v0.5/CUSPARSE/src/sparse.jl:659</a><li> csrmv(transa::<b>Char</b>, alpha::<b>Float64</b>, A::<b>CUSPARSE.CudaSparseMatrixCSR{Float64}</b>, X::<b>CUDArt.CudaArray{Float64,1}</b>, Y::<b>CUDArt.CudaArray{Float64,1}</b>, index::<b>Char</b>) at <a href=\"https://github.com/JuliaGPU/CUSPARSE.jl/tree/58bca6fad4906460aba913fc83644c31c2e8b72e/src/sparse.jl#L667\" target=\"_blank\">/home/mcp50/.julia/v0.5/CUSPARSE/src/sparse.jl:667</a><li> csrmv(transa::<b>Char</b>, A::<b>CUSPARSE.CudaSparseMatrixCSR{Float64}</b>, X::<b>CUDArt.CudaArray{Float64,1}</b>, beta::<b>Float64</b>, Y::<b>CUDArt.CudaArray{Float64,1}</b>, index::<b>Char</b>) at <a href=\"https://github.com/JuliaGPU/CUSPARSE.jl/tree/58bca6fad4906460aba913fc83644c31c2e8b72e/src/sparse.jl#L675\" target=\"_blank\">/home/mcp50/.julia/v0.5/CUSPARSE/src/sparse.jl:675</a><li> csrmv(transa::<b>Char</b>, A::<b>CUSPARSE.CudaSparseMatrixCSR{Float64}</b>, X::<b>CUDArt.CudaArray{Float64,1}</b>, Y::<b>CUDArt.CudaArray{Float64,1}</b>, index::<b>Char</b>) at <a href=\"https://github.com/JuliaGPU/CUSPARSE.jl/tree/58bca6fad4906460aba913fc83644c31c2e8b72e/src/sparse.jl#L682\" target=\"_blank\">/home/mcp50/.julia/v0.5/CUSPARSE/src/sparse.jl:682</a><li> csrmv(transa::<b>Char</b>, alpha::<b>Float64</b>, A::<b>CUSPARSE.CudaSparseMatrixCSR{Float64}</b>, X::<b>CUDArt.CudaArray{Float64,1}</b>, index::<b>Char</b>) at <a href=\"https://github.com/JuliaGPU/CUSPARSE.jl/tree/58bca6fad4906460aba913fc83644c31c2e8b72e/src/sparse.jl#L689\" target=\"_blank\">/home/mcp50/.julia/v0.5/CUSPARSE/src/sparse.jl:689</a><li> csrmv(transa::<b>Char</b>, A::<b>CUSPARSE.CudaSparseMatrixCSR{Float64}</b>, X::<b>CUDArt.CudaArray{Float64,1}</b>, index::<b>Char</b>) at <a href=\"https://github.com/JuliaGPU/CUSPARSE.jl/tree/58bca6fad4906460aba913fc83644c31c2e8b72e/src/sparse.jl#L695\" target=\"_blank\">/home/mcp50/.julia/v0.5/CUSPARSE/src/sparse.jl:695</a><li> csrmv(transa::<b>Char</b>, alpha::<b>Complex{Float32}</b>, A::<b>CUSPARSE.CudaSparseMatrixCSR{Complex{Float32}}</b>, X::<b>CUDArt.CudaArray{Complex{Float32},1}</b>, beta::<b>Complex{Float32}</b>, Y::<b>CUDArt.CudaArray{Complex{Float32},1}</b>, index::<b>Char</b>) at <a href=\"https://github.com/JuliaGPU/CUSPARSE.jl/tree/58bca6fad4906460aba913fc83644c31c2e8b72e/src/sparse.jl#L659\" target=\"_blank\">/home/mcp50/.julia/v0.5/CUSPARSE/src/sparse.jl:659</a><li> csrmv(transa::<b>Char</b>, alpha::<b>Complex{Float32}</b>, A::<b>CUSPARSE.CudaSparseMatrixCSR{Complex{Float32}}</b>, X::<b>CUDArt.CudaArray{Complex{Float32},1}</b>, Y::<b>CUDArt.CudaArray{Complex{Float32},1}</b>, index::<b>Char</b>) at <a href=\"https://github.com/JuliaGPU/CUSPARSE.jl/tree/58bca6fad4906460aba913fc83644c31c2e8b72e/src/sparse.jl#L667\" target=\"_blank\">/home/mcp50/.julia/v0.5/CUSPARSE/src/sparse.jl:667</a><li> csrmv(transa::<b>Char</b>, A::<b>CUSPARSE.CudaSparseMatrixCSR{Complex{Float32}}</b>, X::<b>CUDArt.CudaArray{Complex{Float32},1}</b>, beta::<b>Complex{Float32}</b>, Y::<b>CUDArt.CudaArray{Complex{Float32},1}</b>, index::<b>Char</b>) at <a href=\"https://github.com/JuliaGPU/CUSPARSE.jl/tree/58bca6fad4906460aba913fc83644c31c2e8b72e/src/sparse.jl#L675\" target=\"_blank\">/home/mcp50/.julia/v0.5/CUSPARSE/src/sparse.jl:675</a><li> csrmv(transa::<b>Char</b>, A::<b>CUSPARSE.CudaSparseMatrixCSR{Complex{Float32}}</b>, X::<b>CUDArt.CudaArray{Complex{Float32},1}</b>, Y::<b>CUDArt.CudaArray{Complex{Float32},1}</b>, index::<b>Char</b>) at <a href=\"https://github.com/JuliaGPU/CUSPARSE.jl/tree/58bca6fad4906460aba913fc83644c31c2e8b72e/src/sparse.jl#L682\" target=\"_blank\">/home/mcp50/.julia/v0.5/CUSPARSE/src/sparse.jl:682</a><li> csrmv(transa::<b>Char</b>, alpha::<b>Complex{Float32}</b>, A::<b>CUSPARSE.CudaSparseMatrixCSR{Complex{Float32}}</b>, X::<b>CUDArt.CudaArray{Complex{Float32},1}</b>, index::<b>Char</b>) at <a href=\"https://github.com/JuliaGPU/CUSPARSE.jl/tree/58bca6fad4906460aba913fc83644c31c2e8b72e/src/sparse.jl#L689\" target=\"_blank\">/home/mcp50/.julia/v0.5/CUSPARSE/src/sparse.jl:689</a><li> csrmv(transa::<b>Char</b>, A::<b>CUSPARSE.CudaSparseMatrixCSR{Complex{Float32}}</b>, X::<b>CUDArt.CudaArray{Complex{Float32},1}</b>, index::<b>Char</b>) at <a href=\"https://github.com/JuliaGPU/CUSPARSE.jl/tree/58bca6fad4906460aba913fc83644c31c2e8b72e/src/sparse.jl#L695\" target=\"_blank\">/home/mcp50/.julia/v0.5/CUSPARSE/src/sparse.jl:695</a><li> csrmv(transa::<b>Char</b>, alpha::<b>Complex{Float64}</b>, A::<b>CUSPARSE.CudaSparseMatrixCSR{Complex{Float64}}</b>, X::<b>CUDArt.CudaArray{Complex{Float64},1}</b>, beta::<b>Complex{Float64}</b>, Y::<b>CUDArt.CudaArray{Complex{Float64},1}</b>, index::<b>Char</b>) at <a href=\"https://github.com/JuliaGPU/CUSPARSE.jl/tree/58bca6fad4906460aba913fc83644c31c2e8b72e/src/sparse.jl#L659\" target=\"_blank\">/home/mcp50/.julia/v0.5/CUSPARSE/src/sparse.jl:659</a><li> csrmv(transa::<b>Char</b>, alpha::<b>Complex{Float64}</b>, A::<b>CUSPARSE.CudaSparseMatrixCSR{Complex{Float64}}</b>, X::<b>CUDArt.CudaArray{Complex{Float64},1}</b>, Y::<b>CUDArt.CudaArray{Complex{Float64},1}</b>, index::<b>Char</b>) at <a href=\"https://github.com/JuliaGPU/CUSPARSE.jl/tree/58bca6fad4906460aba913fc83644c31c2e8b72e/src/sparse.jl#L667\" target=\"_blank\">/home/mcp50/.julia/v0.5/CUSPARSE/src/sparse.jl:667</a><li> csrmv(transa::<b>Char</b>, A::<b>CUSPARSE.CudaSparseMatrixCSR{Complex{Float64}}</b>, X::<b>CUDArt.CudaArray{Complex{Float64},1}</b>, beta::<b>Complex{Float64}</b>, Y::<b>CUDArt.CudaArray{Complex{Float64},1}</b>, index::<b>Char</b>) at <a href=\"https://github.com/JuliaGPU/CUSPARSE.jl/tree/58bca6fad4906460aba913fc83644c31c2e8b72e/src/sparse.jl#L675\" target=\"_blank\">/home/mcp50/.julia/v0.5/CUSPARSE/src/sparse.jl:675</a><li> csrmv(transa::<b>Char</b>, A::<b>CUSPARSE.CudaSparseMatrixCSR{Complex{Float64}}</b>, X::<b>CUDArt.CudaArray{Complex{Float64},1}</b>, Y::<b>CUDArt.CudaArray{Complex{Float64},1}</b>, index::<b>Char</b>) at <a href=\"https://github.com/JuliaGPU/CUSPARSE.jl/tree/58bca6fad4906460aba913fc83644c31c2e8b72e/src/sparse.jl#L682\" target=\"_blank\">/home/mcp50/.julia/v0.5/CUSPARSE/src/sparse.jl:682</a><li> csrmv(transa::<b>Char</b>, alpha::<b>Complex{Float64}</b>, A::<b>CUSPARSE.CudaSparseMatrixCSR{Complex{Float64}}</b>, X::<b>CUDArt.CudaArray{Complex{Float64},1}</b>, index::<b>Char</b>) at <a href=\"https://github.com/JuliaGPU/CUSPARSE.jl/tree/58bca6fad4906460aba913fc83644c31c2e8b72e/src/sparse.jl#L689\" target=\"_blank\">/home/mcp50/.julia/v0.5/CUSPARSE/src/sparse.jl:689</a><li> csrmv(transa::<b>Char</b>, A::<b>CUSPARSE.CudaSparseMatrixCSR{Complex{Float64}}</b>, X::<b>CUDArt.CudaArray{Complex{Float64},1}</b>, index::<b>Char</b>) at <a href=\"https://github.com/JuliaGPU/CUSPARSE.jl/tree/58bca6fad4906460aba913fc83644c31c2e8b72e/src/sparse.jl#L695\" target=\"_blank\">/home/mcp50/.julia/v0.5/CUSPARSE/src/sparse.jl:695</a></ul>"
      ],
      "text/plain": [
       "# 24 methods for generic function \"csrmv\":\n",
       "csrmv(transa::Char, alpha::Float32, A::CUSPARSE.CudaSparseMatrixCSR{Float32}, X::CUDArt.CudaArray{Float32,1}, beta::Float32, Y::CUDArt.CudaArray{Float32,1}, index::Char) at /home/mcp50/.julia/v0.5/CUSPARSE/src/sparse.jl:659\n",
       "csrmv(transa::Char, alpha::Float32, A::CUSPARSE.CudaSparseMatrixCSR{Float32}, X::CUDArt.CudaArray{Float32,1}, Y::CUDArt.CudaArray{Float32,1}, index::Char) at /home/mcp50/.julia/v0.5/CUSPARSE/src/sparse.jl:667\n",
       "csrmv(transa::Char, A::CUSPARSE.CudaSparseMatrixCSR{Float32}, X::CUDArt.CudaArray{Float32,1}, beta::Float32, Y::CUDArt.CudaArray{Float32,1}, index::Char) at /home/mcp50/.julia/v0.5/CUSPARSE/src/sparse.jl:675\n",
       "csrmv(transa::Char, A::CUSPARSE.CudaSparseMatrixCSR{Float32}, X::CUDArt.CudaArray{Float32,1}, Y::CUDArt.CudaArray{Float32,1}, index::Char) at /home/mcp50/.julia/v0.5/CUSPARSE/src/sparse.jl:682\n",
       "csrmv(transa::Char, alpha::Float32, A::CUSPARSE.CudaSparseMatrixCSR{Float32}, X::CUDArt.CudaArray{Float32,1}, index::Char) at /home/mcp50/.julia/v0.5/CUSPARSE/src/sparse.jl:689\n",
       "csrmv(transa::Char, A::CUSPARSE.CudaSparseMatrixCSR{Float32}, X::CUDArt.CudaArray{Float32,1}, index::Char) at /home/mcp50/.julia/v0.5/CUSPARSE/src/sparse.jl:695\n",
       "csrmv(transa::Char, alpha::Float64, A::CUSPARSE.CudaSparseMatrixCSR{Float64}, X::CUDArt.CudaArray{Float64,1}, beta::Float64, Y::CUDArt.CudaArray{Float64,1}, index::Char) at /home/mcp50/.julia/v0.5/CUSPARSE/src/sparse.jl:659\n",
       "csrmv(transa::Char, alpha::Float64, A::CUSPARSE.CudaSparseMatrixCSR{Float64}, X::CUDArt.CudaArray{Float64,1}, Y::CUDArt.CudaArray{Float64,1}, index::Char) at /home/mcp50/.julia/v0.5/CUSPARSE/src/sparse.jl:667\n",
       "csrmv(transa::Char, A::CUSPARSE.CudaSparseMatrixCSR{Float64}, X::CUDArt.CudaArray{Float64,1}, beta::Float64, Y::CUDArt.CudaArray{Float64,1}, index::Char) at /home/mcp50/.julia/v0.5/CUSPARSE/src/sparse.jl:675\n",
       "csrmv(transa::Char, A::CUSPARSE.CudaSparseMatrixCSR{Float64}, X::CUDArt.CudaArray{Float64,1}, Y::CUDArt.CudaArray{Float64,1}, index::Char) at /home/mcp50/.julia/v0.5/CUSPARSE/src/sparse.jl:682\n",
       "csrmv(transa::Char, alpha::Float64, A::CUSPARSE.CudaSparseMatrixCSR{Float64}, X::CUDArt.CudaArray{Float64,1}, index::Char) at /home/mcp50/.julia/v0.5/CUSPARSE/src/sparse.jl:689\n",
       "csrmv(transa::Char, A::CUSPARSE.CudaSparseMatrixCSR{Float64}, X::CUDArt.CudaArray{Float64,1}, index::Char) at /home/mcp50/.julia/v0.5/CUSPARSE/src/sparse.jl:695\n",
       "csrmv(transa::Char, alpha::Complex{Float32}, A::CUSPARSE.CudaSparseMatrixCSR{Complex{Float32}}, X::CUDArt.CudaArray{Complex{Float32},1}, beta::Complex{Float32}, Y::CUDArt.CudaArray{Complex{Float32},1}, index::Char) at /home/mcp50/.julia/v0.5/CUSPARSE/src/sparse.jl:659\n",
       "csrmv(transa::Char, alpha::Complex{Float32}, A::CUSPARSE.CudaSparseMatrixCSR{Complex{Float32}}, X::CUDArt.CudaArray{Complex{Float32},1}, Y::CUDArt.CudaArray{Complex{Float32},1}, index::Char) at /home/mcp50/.julia/v0.5/CUSPARSE/src/sparse.jl:667\n",
       "csrmv(transa::Char, A::CUSPARSE.CudaSparseMatrixCSR{Complex{Float32}}, X::CUDArt.CudaArray{Complex{Float32},1}, beta::Complex{Float32}, Y::CUDArt.CudaArray{Complex{Float32},1}, index::Char) at /home/mcp50/.julia/v0.5/CUSPARSE/src/sparse.jl:675\n",
       "csrmv(transa::Char, A::CUSPARSE.CudaSparseMatrixCSR{Complex{Float32}}, X::CUDArt.CudaArray{Complex{Float32},1}, Y::CUDArt.CudaArray{Complex{Float32},1}, index::Char) at /home/mcp50/.julia/v0.5/CUSPARSE/src/sparse.jl:682\n",
       "csrmv(transa::Char, alpha::Complex{Float32}, A::CUSPARSE.CudaSparseMatrixCSR{Complex{Float32}}, X::CUDArt.CudaArray{Complex{Float32},1}, index::Char) at /home/mcp50/.julia/v0.5/CUSPARSE/src/sparse.jl:689\n",
       "csrmv(transa::Char, A::CUSPARSE.CudaSparseMatrixCSR{Complex{Float32}}, X::CUDArt.CudaArray{Complex{Float32},1}, index::Char) at /home/mcp50/.julia/v0.5/CUSPARSE/src/sparse.jl:695\n",
       "csrmv(transa::Char, alpha::Complex{Float64}, A::CUSPARSE.CudaSparseMatrixCSR{Complex{Float64}}, X::CUDArt.CudaArray{Complex{Float64},1}, beta::Complex{Float64}, Y::CUDArt.CudaArray{Complex{Float64},1}, index::Char) at /home/mcp50/.julia/v0.5/CUSPARSE/src/sparse.jl:659\n",
       "csrmv(transa::Char, alpha::Complex{Float64}, A::CUSPARSE.CudaSparseMatrixCSR{Complex{Float64}}, X::CUDArt.CudaArray{Complex{Float64},1}, Y::CUDArt.CudaArray{Complex{Float64},1}, index::Char) at /home/mcp50/.julia/v0.5/CUSPARSE/src/sparse.jl:667\n",
       "csrmv(transa::Char, A::CUSPARSE.CudaSparseMatrixCSR{Complex{Float64}}, X::CUDArt.CudaArray{Complex{Float64},1}, beta::Complex{Float64}, Y::CUDArt.CudaArray{Complex{Float64},1}, index::Char) at /home/mcp50/.julia/v0.5/CUSPARSE/src/sparse.jl:675\n",
       "csrmv(transa::Char, A::CUSPARSE.CudaSparseMatrixCSR{Complex{Float64}}, X::CUDArt.CudaArray{Complex{Float64},1}, Y::CUDArt.CudaArray{Complex{Float64},1}, index::Char) at /home/mcp50/.julia/v0.5/CUSPARSE/src/sparse.jl:682\n",
       "csrmv(transa::Char, alpha::Complex{Float64}, A::CUSPARSE.CudaSparseMatrixCSR{Complex{Float64}}, X::CUDArt.CudaArray{Complex{Float64},1}, index::Char) at /home/mcp50/.julia/v0.5/CUSPARSE/src/sparse.jl:689\n",
       "csrmv(transa::Char, A::CUSPARSE.CudaSparseMatrixCSR{Complex{Float64}}, X::CUDArt.CudaArray{Complex{Float64},1}, index::Char) at /home/mcp50/.julia/v0.5/CUSPARSE/src/sparse.jl:695"
      ]
     },
     "execution_count": 96,
     "metadata": {},
     "output_type": "execute_result"
    }
   ],
   "source": [
    "methods(CUSPARSE.csrmv)"
   ]
  },
  {
   "cell_type": "markdown",
   "metadata": {},
   "source": [
    "Let's go ahead and make some sparse matrices."
   ]
  },
  {
   "cell_type": "code",
   "execution_count": 85,
   "metadata": {
    "collapsed": false
   },
   "outputs": [
    {
     "data": {
      "text/plain": [
       "CUSPARSE.CudaSparseMatrixCSR{Float64}(CUDArt.CudaArray{Int32,1}(CUDArt.CudaPtr{Int32}(Ptr{Int32} @0x0000000b037a5400),(21,),0),CUDArt.CudaArray{Int32,1}(CUDArt.CudaPtr{Int32}(Ptr{Int32} @0x0000000b037a5600),(16,),0),CUDArt.CudaArray{Float64,1}(CUDArt.CudaPtr{Float64}(Ptr{Float64} @0x0000000b037a5800),(16,),0),(20,10),16,0)"
      ]
     },
     "execution_count": 85,
     "metadata": {},
     "output_type": "execute_result"
    }
   ],
   "source": [
    "# dimensions and fill proportion\n",
    "N = 20\n",
    "M = 10\n",
    "p = 0.1\n",
    "\n",
    "# create matrices A,B on the CPU \n",
    "A = sprand(N,M,p)\n",
    "B = sprand(N,M,p)\n",
    "\n",
    "# generate scalar parameters\n",
    "alpha = rand()\n",
    "beta  = rand()\n",
    "\n",
    "# convert A,B to CSR format and\n",
    "# move them to the GPU - one step\n",
    "d_A = CudaSparseMatrixCSR(A)\n",
    "d_B = CudaSparseMatrixCSR(B)"
   ]
  },
  {
   "cell_type": "markdown",
   "metadata": {},
   "source": [
    "Then add them togther using ```geam```:"
   ]
  },
  {
   "cell_type": "code",
   "execution_count": 87,
   "metadata": {
    "collapsed": false
   },
   "outputs": [
    {
     "data": {
      "text/plain": [
       "20x10 sparse matrix with 0 Float64 entries:"
      ]
     },
     "execution_count": 87,
     "metadata": {},
     "output_type": "execute_result"
    }
   ],
   "source": [
    "# perform alpha * A + beta * B\n",
    "d_C = CUSPARSE.geam(alpha, d_A, beta, d_B, 'O', 'O', 'O')\n",
    "\n",
    "# bring the result back to the CPU\n",
    "C = CUSPARSE.to_host(d_C)\n",
    "\n",
    "# observe a zero matrix\n",
    "alpha*A + beta*B - C"
   ]
  },
  {
   "cell_type": "code",
   "execution_count": null,
   "metadata": {
    "collapsed": true
   },
   "outputs": [],
   "source": []
  }
 ],
 "metadata": {
  "kernelspec": {
   "display_name": "Julia 0.5.0",
   "language": "julia",
   "name": "julia-0.5"
  },
  "language_info": {
   "file_extension": ".jl",
   "mimetype": "application/julia",
   "name": "julia",
   "version": "0.5.0"
  }
 },
 "nbformat": 4,
 "nbformat_minor": 0
}
